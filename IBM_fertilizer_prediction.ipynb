{
  "nbformat": 4,
  "nbformat_minor": 0,
  "metadata": {
    "kernelspec": {
      "language": "python",
      "display_name": "Python 3",
      "name": "python3"
    },
    "language_info": {
      "name": "python",
      "version": "3.7.10",
      "mimetype": "text/x-python",
      "codemirror_mode": {
        "name": "ipython",
        "version": 3
      },
      "pygments_lexer": "ipython3",
      "nbconvert_exporter": "python",
      "file_extension": ".py"
    },
    "colab": {
      "name": "IBM-fertilizer-prediction.ipynb",
      "provenance": []
    }
  },
  "cells": [
    {
      "cell_type": "markdown",
      "metadata": {
        "id": "YeFLPFNuXom9"
      },
      "source": [
        "### Fertilizer type prediction"
      ]
    },
    {
      "cell_type": "code",
      "metadata": {
        "_uuid": "8f2839f25d086af736a60e9eeb907d3b93b6e0e5",
        "_cell_guid": "b1076dfc-b9ad-4769-8c92-a6c4dae69d19",
        "execution": {
          "iopub.status.busy": "2021-07-31T06:13:57.906196Z",
          "iopub.execute_input": "2021-07-31T06:13:57.906639Z",
          "iopub.status.idle": "2021-07-31T06:13:57.912495Z",
          "shell.execute_reply.started": "2021-07-31T06:13:57.906601Z",
          "shell.execute_reply": "2021-07-31T06:13:57.911021Z"
        },
        "trusted": true,
        "id": "f5sHZwD1XonE"
      },
      "source": [
        "import numpy as np\n",
        "import pandas as pd\n",
        "\n",
        "from sklearn.preprocessing import OneHotEncoder, StandardScaler\n",
        "from sklearn.model_selection import train_test_split\n",
        "from sklearn.pipeline import Pipeline\n",
        "from sklearn.compose import ColumnTransformer\n",
        "from sklearn.preprocessing import OneHotEncoder\n",
        "from sklearn.ensemble import RandomForestClassifier\n",
        "from sklearn.metrics import classification_report"
      ],
      "execution_count": 76,
      "outputs": []
    },
    {
      "cell_type": "code",
      "metadata": {
        "execution": {
          "iopub.status.busy": "2021-07-31T06:13:57.913963Z",
          "iopub.execute_input": "2021-07-31T06:13:57.914242Z",
          "iopub.status.idle": "2021-07-31T06:13:57.952249Z",
          "shell.execute_reply.started": "2021-07-31T06:13:57.914216Z",
          "shell.execute_reply": "2021-07-31T06:13:57.951347Z"
        },
        "trusted": true,
        "colab": {
          "base_uri": "https://localhost:8080/",
          "height": 206
        },
        "id": "s9SY5G1FXonK",
        "outputId": "5d236239-7447-4ed5-c6bd-a206dfdbc7b8"
      },
      "source": [
        "df=pd.read_csv(\"/content/Fertilizer Prediction.csv\")\n",
        "df.head()"
      ],
      "execution_count": 77,
      "outputs": [
        {
          "output_type": "execute_result",
          "data": {
            "text/html": [
              "<div>\n",
              "<style scoped>\n",
              "    .dataframe tbody tr th:only-of-type {\n",
              "        vertical-align: middle;\n",
              "    }\n",
              "\n",
              "    .dataframe tbody tr th {\n",
              "        vertical-align: top;\n",
              "    }\n",
              "\n",
              "    .dataframe thead th {\n",
              "        text-align: right;\n",
              "    }\n",
              "</style>\n",
              "<table border=\"1\" class=\"dataframe\">\n",
              "  <thead>\n",
              "    <tr style=\"text-align: right;\">\n",
              "      <th></th>\n",
              "      <th>Temparature</th>\n",
              "      <th>Humidity</th>\n",
              "      <th>Moisture</th>\n",
              "      <th>Soil Type</th>\n",
              "      <th>Crop Type</th>\n",
              "      <th>Nitrogen</th>\n",
              "      <th>Potassium</th>\n",
              "      <th>Phosphorous</th>\n",
              "      <th>Fertilizer Name</th>\n",
              "    </tr>\n",
              "  </thead>\n",
              "  <tbody>\n",
              "    <tr>\n",
              "      <th>0</th>\n",
              "      <td>26</td>\n",
              "      <td>52</td>\n",
              "      <td>38</td>\n",
              "      <td>Sandy</td>\n",
              "      <td>Maize</td>\n",
              "      <td>37</td>\n",
              "      <td>0</td>\n",
              "      <td>0</td>\n",
              "      <td>Urea</td>\n",
              "    </tr>\n",
              "    <tr>\n",
              "      <th>1</th>\n",
              "      <td>29</td>\n",
              "      <td>52</td>\n",
              "      <td>45</td>\n",
              "      <td>Loamy</td>\n",
              "      <td>Sugarcane</td>\n",
              "      <td>12</td>\n",
              "      <td>0</td>\n",
              "      <td>36</td>\n",
              "      <td>DAP</td>\n",
              "    </tr>\n",
              "    <tr>\n",
              "      <th>2</th>\n",
              "      <td>34</td>\n",
              "      <td>65</td>\n",
              "      <td>62</td>\n",
              "      <td>Black</td>\n",
              "      <td>Cotton</td>\n",
              "      <td>7</td>\n",
              "      <td>9</td>\n",
              "      <td>30</td>\n",
              "      <td>14-35-14</td>\n",
              "    </tr>\n",
              "    <tr>\n",
              "      <th>3</th>\n",
              "      <td>32</td>\n",
              "      <td>62</td>\n",
              "      <td>34</td>\n",
              "      <td>Red</td>\n",
              "      <td>Tobacco</td>\n",
              "      <td>22</td>\n",
              "      <td>0</td>\n",
              "      <td>20</td>\n",
              "      <td>28-28</td>\n",
              "    </tr>\n",
              "    <tr>\n",
              "      <th>4</th>\n",
              "      <td>28</td>\n",
              "      <td>54</td>\n",
              "      <td>46</td>\n",
              "      <td>Clayey</td>\n",
              "      <td>Paddy</td>\n",
              "      <td>35</td>\n",
              "      <td>0</td>\n",
              "      <td>0</td>\n",
              "      <td>Urea</td>\n",
              "    </tr>\n",
              "  </tbody>\n",
              "</table>\n",
              "</div>"
            ],
            "text/plain": [
              "   Temparature  Humidity   Moisture  ... Potassium Phosphorous  Fertilizer Name\n",
              "0           26         52        38  ...         0           0             Urea\n",
              "1           29         52        45  ...         0          36              DAP\n",
              "2           34         65        62  ...         9          30         14-35-14\n",
              "3           32         62        34  ...         0          20            28-28\n",
              "4           28         54        46  ...         0           0             Urea\n",
              "\n",
              "[5 rows x 9 columns]"
            ]
          },
          "metadata": {},
          "execution_count": 77
        }
      ]
    },
    {
      "cell_type": "code",
      "metadata": {
        "id": "AfQvayRIZN-r"
      },
      "source": [
        "y = df['Fertilizer Name'].copy()\n",
        "X = df.drop('Fertilizer Name', axis=1).copy()"
      ],
      "execution_count": 78,
      "outputs": []
    },
    {
      "cell_type": "code",
      "metadata": {
        "colab": {
          "base_uri": "https://localhost:8080/"
        },
        "id": "fvxo99w4ZRDc",
        "outputId": "779357dc-172f-4d25-c8ec-45652c6debea"
      },
      "source": [
        "ct = ColumnTransformer(transformers=[('encoder', OneHotEncoder(), [3,4])], remainder='passthrough')\n",
        "X = np.array(ct.fit_transform(X))\n",
        "X[0]\n",
        "\n",
        "X_train, X_test, y_train, y_test = train_test_split(X, y, train_size=0.7, shuffle=True, random_state=42)\n",
        "\n",
        "sc = StandardScaler()\n",
        "X_train = sc.fit_transform(X_train)\n",
        "X_test = sc.transform(X_test)\n",
        "X_train[0]"
      ],
      "execution_count": 79,
      "outputs": [
        {
          "output_type": "execute_result",
          "data": {
            "text/plain": [
              "array([-0.48181206,  1.98206242, -0.59408853, -0.50452498, -0.41169348,\n",
              "       -0.24806947, -0.33601075, -0.33601075, -0.17277369, -0.36214298,\n",
              "       -0.24806947, -0.36214298,  3.24037035, -0.43549417, -0.24806947,\n",
              "       -0.36214298, -1.50323411, -1.54242294, -1.00710689,  0.46072126,\n",
              "       -0.57643157,  0.09092764])"
            ]
          },
          "metadata": {},
          "execution_count": 79
        }
      ]
    },
    {
      "cell_type": "code",
      "metadata": {
        "colab": {
          "base_uri": "https://localhost:8080/"
        },
        "id": "iRiRXdB4ZcRt",
        "outputId": "a48e4db7-f4ef-4ded-b6d3-f43833f7c6b8"
      },
      "source": [
        "classifier = RandomForestClassifier(n_estimators= 100, criterion = 'gini' , random_state= 42)\n",
        "classifier.fit(X_train, y_train)"
      ],
      "execution_count": 80,
      "outputs": [
        {
          "output_type": "execute_result",
          "data": {
            "text/plain": [
              "RandomForestClassifier(random_state=42)"
            ]
          },
          "metadata": {},
          "execution_count": 80
        }
      ]
    },
    {
      "cell_type": "code",
      "metadata": {
        "colab": {
          "base_uri": "https://localhost:8080/"
        },
        "id": "JKjGDZIRaIgk",
        "outputId": "4bb8d90a-7f86-4a22-f744-080f1131c0b2"
      },
      "source": [
        "y_pred = classifier.predict(X_test)\n",
        "np_array = np.array(X_test[8])\n",
        "np_array = np_array.reshape(1,-1)\n",
        "np_array = np_array.tolist()\n",
        "classifier.predict(np_array)"
      ],
      "execution_count": 81,
      "outputs": [
        {
          "output_type": "execute_result",
          "data": {
            "text/plain": [
              "array(['DAP'], dtype=object)"
            ]
          },
          "metadata": {},
          "execution_count": 81
        }
      ]
    },
    {
      "cell_type": "code",
      "metadata": {
        "id": "ntIffiByZ6DD"
      },
      "source": [
        "def encode_scalar(feature_input):  \n",
        "  #feature_input = [ 36,\t68,\t41,\t'Red',\t'Ground Nuts',\t41,\t0\t,0 ]\n",
        "  np_array = np.array(feature_input)\n",
        "  np_array = np_array.reshape(1,-1)\n",
        "  np_array = np_array.tolist()\n",
        "  X_encode = np.array(ct.transform(np_array))\n",
        "  X_transform = sc.transform(X_encode)\n",
        "  return X_transform\n",
        "  "
      ],
      "execution_count": 82,
      "outputs": []
    },
    {
      "cell_type": "code",
      "metadata": {
        "id": "uwa8HI8NdP7p"
      },
      "source": [
        "#feature_input = [ 36,\t68,\t41,\t'Red',\t'Ground Nuts',\t41,\t0\t,0 ]\n",
        "#user_ip = encode_scalar(feature_input)\n",
        "#0classifier.predict(user_ip)"
      ],
      "execution_count": 83,
      "outputs": []
    },
    {
      "cell_type": "code",
      "metadata": {
        "colab": {
          "base_uri": "https://localhost:8080/"
        },
        "id": "4p4-SNTldnXo",
        "outputId": "109454c6-136f-4872-ccb3-ba7929306e02"
      },
      "source": [
        "features = ['Temparature','Humidity','Moisture','Soil Type','Crop Type','Nitrogen','Potassium','Phosphorous']\n",
        "user_input = []\n",
        "for item in features:\n",
        "  temp = input(\"Enter \" + item + \" : \")\n",
        "  user_input.append(temp)\n",
        "\n",
        "encoded_user_input = encode_scalar(user_input)\n",
        "fertilizer_suggestion = classifier.predict(encoded_user_input)\n"
      ],
      "execution_count": 84,
      "outputs": [
        {
          "name": "stdout",
          "output_type": "stream",
          "text": [
            "Enter Temparature : 45\n",
            "Enter Humidity : 47\n",
            "Enter Moisture : 47\n",
            "Enter Soil Type : Red\n",
            "Enter Crop Type : Maize\n",
            "Enter Nitrogen : 84\n",
            "Enter Potassium : 0\n",
            "Enter Phosphorous : 0\n"
          ]
        },
        {
          "output_type": "stream",
          "name": "stderr",
          "text": [
            "/usr/local/lib/python3.7/dist-packages/sklearn/base.py:446: UserWarning: X does not have valid feature names, but OneHotEncoder was fitted with feature names\n",
            "  \"X does not have valid feature names, but\"\n"
          ]
        }
      ]
    },
    {
      "cell_type": "code",
      "metadata": {
        "id": "ISwu0AY6e3Wd"
      },
      "source": [
        "fertilizer_suggestion = classifier.predict(encoded_user_input)"
      ],
      "execution_count": 85,
      "outputs": []
    },
    {
      "cell_type": "code",
      "metadata": {
        "colab": {
          "base_uri": "https://localhost:8080/"
        },
        "id": "A04BQXrOfSlk",
        "outputId": "f77d9448-d5cc-4913-eed2-76a4ca5cfe46"
      },
      "source": [
        "print(\"Suggested Fertilizer : \" , fertilizer_suggestion[0])"
      ],
      "execution_count": 86,
      "outputs": [
        {
          "output_type": "stream",
          "name": "stdout",
          "text": [
            "Suggested Fertilizer :  Urea\n"
          ]
        }
      ]
    }
  ]
}